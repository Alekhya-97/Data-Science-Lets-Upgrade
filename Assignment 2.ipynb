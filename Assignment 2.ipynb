{
 "cells": [
  {
   "cell_type": "markdown",
   "metadata": {},
   "source": [
    "QUESTION 1"
   ]
  },
  {
   "cell_type": "code",
   "execution_count": 3,
   "metadata": {},
   "outputs": [
    {
     "name": "stdout",
     "output_type": "stream",
     "text": [
      "1\n",
      "3\n",
      "5\n",
      "2\n",
      "6\n",
      "9\n",
      "8\n",
      "4\n",
      "33\n",
      "56\n",
      "[2, 6, 8, 4, 56]\n"
     ]
    }
   ],
   "source": [
    "l= []  \n",
    "for i in range(0, 10):\n",
    "    number = int(input()) \n",
    "    if number%2==0:\n",
    "        l.append(number) \n",
    "\n",
    "print(l) "
   ]
  },
  {
   "cell_type": "markdown",
   "metadata": {},
   "source": [
    "QUESTION 2"
   ]
  },
  {
   "cell_type": "markdown",
   "metadata": {},
   "source": [
    "LIST COMPREHENSIONS:  List comprehension is an elegant way to define and create lists based on existing lists."
   ]
  },
  {
   "cell_type": "code",
   "execution_count": 6,
   "metadata": {},
   "outputs": [
    {
     "name": "stdout",
     "output_type": "stream",
     "text": [
      "['A', 'L', 'E', 'K', 'H', 'Y', 'A']\n"
     ]
    }
   ],
   "source": [
    "letters = [ letter for letter in 'ALEKHYA' ]\n",
    "print( letters)"
   ]
  },
  {
   "cell_type": "markdown",
   "metadata": {},
   "source": [
    "QUESTION 3"
   ]
  },
  {
   "cell_type": "code",
   "execution_count": 10,
   "metadata": {},
   "outputs": [
    {
     "name": "stdout",
     "output_type": "stream",
     "text": [
      "4\n",
      "{1: 1, 2: 4, 3: 9, 4: 16}\n"
     ]
    }
   ],
   "source": [
    "n=int(input())\n",
    "d={}\n",
    "for i in range (1,n+1):\n",
    "    value={i:(i)*(i)}\n",
    "    d.update(value)\n",
    "print(d)"
   ]
  },
  {
   "cell_type": "markdown",
   "metadata": {},
   "source": [
    "QUESTION 4"
   ]
  },
  {
   "cell_type": "code",
   "execution_count": 11,
   "metadata": {},
   "outputs": [
    {
     "name": "stdout",
     "output_type": "stream",
     "text": [
      "4\n",
      "up 5\n",
      "down 3\n",
      "left 3\n",
      "right 2\n",
      "2\n"
     ]
    }
   ],
   "source": [
    "n=int(input())\n",
    "d=[]\n",
    "Hi,Si=0,0\n",
    "for i in range(n):\n",
    "    d.append(input())\n",
    "for i in range(n):\n",
    "    if d[i][0].upper()==\"U\":\n",
    "        Hi+=int(d[i][len(d[i])-1])\n",
    "    elif d[i][0].upper()==\"D\":\n",
    "        Hi-=int(d[i][len(d[i])-1])\n",
    "    elif d[i][0].upper()==\"L\":\n",
    "        Si-=int(d[i][len(d[i])-1])\n",
    "    elif d[i][0].upper()==\"R\":\n",
    "        Si+=int(d[i][len(d[i])-1])\n",
    "dist=Si**2+Hi**2\n",
    "caldist=dist**0.5\n",
    "final=int(round(caldist))\n",
    "print(final)"
   ]
  },
  {
   "cell_type": "code",
   "execution_count": null,
   "metadata": {},
   "outputs": [],
   "source": []
  }
 ],
 "metadata": {
  "kernelspec": {
   "display_name": "Python 3",
   "language": "python",
   "name": "python3"
  },
  "language_info": {
   "codemirror_mode": {
    "name": "ipython",
    "version": 3
   },
   "file_extension": ".py",
   "mimetype": "text/x-python",
   "name": "python",
   "nbconvert_exporter": "python",
   "pygments_lexer": "ipython3",
   "version": "3.8.3"
  }
 },
 "nbformat": 4,
 "nbformat_minor": 4
}
