{
 "cells": [
  {
   "cell_type": "markdown",
   "metadata": {},
   "source": [
    "QUESTION 1"
   ]
  },
  {
   "cell_type": "code",
   "execution_count": 3,
   "metadata": {},
   "outputs": [
    {
     "name": "stdout",
     "output_type": "stream",
     "text": [
      "[ 2  5  8 11 14 17 20 23 26 29 32 35 38 41 44 47 50]\n"
     ]
    }
   ],
   "source": [
    "import numpy as np\n",
    "\n",
    "ar=np.array([each for each in range (2,51,3)])\n",
    "print(ar)"
   ]
  },
  {
   "cell_type": "markdown",
   "metadata": {},
   "source": [
    "QUESTION 2"
   ]
  },
  {
   "cell_type": "code",
   "execution_count": 6,
   "metadata": {},
   "outputs": [
    {
     "name": "stdout",
     "output_type": "stream",
     "text": [
      "1 3 5 7 8 \n",
      "6 1 4 3 0\n",
      "['1' '3' '5' '7' '8' '' '6' '1' '4' '3' '0']\n",
      "['' '0' '1' '1' '3' '3' '4' '5' '6' '7' '8']\n"
     ]
    }
   ],
   "source": [
    "lst1=list(input().split(' '))\n",
    "lst2=list(input().split(' '))\n",
    "ar1=np.array(lst1)\n",
    "ar2=np.array(lst2)\n",
    "print(np.concatenate((ar1,ar2)))\n",
    "print(np.sort(np.concatenate((ar1,ar2))))"
   ]
  },
  {
   "cell_type": "markdown",
   "metadata": {},
   "source": [
    "QUESTION 3"
   ]
  },
  {
   "cell_type": "code",
   "execution_count": 7,
   "metadata": {},
   "outputs": [
    {
     "name": "stdout",
     "output_type": "stream",
     "text": [
      "(3, 5)\n",
      "15\n"
     ]
    }
   ],
   "source": [
    "arrr=np.random.rand(3,5)\n",
    "print(arrr.shape)\n",
    "print(arrr.size)"
   ]
  },
  {
   "cell_type": "markdown",
   "metadata": {},
   "source": [
    "QUESTION 4"
   ]
  },
  {
   "cell_type": "code",
   "execution_count": 17,
   "metadata": {},
   "outputs": [
    {
     "name": "stdout",
     "output_type": "stream",
     "text": [
      "(3,)\n",
      "(1, 3)\n",
      "(3, 1)\n"
     ]
    }
   ],
   "source": [
    "import numpy as np\n",
    "\n",
    "ar=np.array([2,1,3])\n",
    "print(ar.shape)\n",
    "ar1=ar[np.newaxis].shape\n",
    "ar2=np.expand_dims(ar,axis=1).shape\n",
    "print(ar1)\n",
    "print(ar2)"
   ]
  },
  {
   "cell_type": "markdown",
   "metadata": {},
   "source": [
    "QUESTION 5"
   ]
  },
  {
   "cell_type": "code",
   "execution_count": 24,
   "metadata": {},
   "outputs": [
    {
     "name": "stdout",
     "output_type": "stream",
     "text": [
      "[[0.32424161 0.33927825 0.44809639]\n",
      " [0.83101572 0.80469178 0.94044127]\n",
      " [0.80847735 0.62046694 0.5479878 ]\n",
      " [0.30164251 0.0033762  0.68267688]\n",
      " [0.91123849 0.10642578 0.69599603]\n",
      " [0.28455437 0.62357143 0.24802318]] \n",
      "\n",
      "[[0.32424161 0.33927825 0.44809639 0.30164251 0.0033762  0.68267688]\n",
      " [0.83101572 0.80469178 0.94044127 0.91123849 0.10642578 0.69599603]\n",
      " [0.80847735 0.62046694 0.5479878  0.28455437 0.62357143 0.24802318]]\n"
     ]
    }
   ],
   "source": [
    "ar=np.random.rand(3,3)\n",
    "ar2=np.random.rand(3,3)\n",
    "print(np.vstack((ar,ar2)),\"\\n\")\n",
    "print(np.hstack((ar,ar2)))"
   ]
  },
  {
   "cell_type": "markdown",
   "metadata": {},
   "source": [
    "QUESTION 6"
   ]
  },
  {
   "cell_type": "code",
   "execution_count": 26,
   "metadata": {},
   "outputs": [
    {
     "name": "stdout",
     "output_type": "stream",
     "text": [
      "[  1   2   4   5   6   8   9  12  31  44  45  61  64 121] \n",
      " [5 5 3 5 6 4 2 2 1 1 1 1 1 1]\n"
     ]
    }
   ],
   "source": [
    "ar=np.array([1,2,2,5,4,6,8,9,12,1,1,2,5,6,8,9,8,8,5,2,5,12,45,4,5,121,2,1,6,44,4,64,6,6,6,1,31,61])\n",
    "unique,occur=np.unique(ar,return_counts=True)\n",
    "print(unique,\"\\n\",occur)"
   ]
  }
 ],
 "metadata": {
  "kernelspec": {
   "display_name": "Python 3",
   "language": "python",
   "name": "python3"
  },
  "language_info": {
   "codemirror_mode": {
    "name": "ipython",
    "version": 3
   },
   "file_extension": ".py",
   "mimetype": "text/x-python",
   "name": "python",
   "nbconvert_exporter": "python",
   "pygments_lexer": "ipython3",
   "version": "3.8.3"
  }
 },
 "nbformat": 4,
 "nbformat_minor": 4
}
